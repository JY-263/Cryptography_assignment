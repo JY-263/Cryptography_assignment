{
  "nbformat": 4,
  "nbformat_minor": 0,
  "metadata": {
    "colab": {
      "name": "nw_sec_pa0.ipynb",
      "provenance": [],
      "collapsed_sections": []
    },
    "kernelspec": {
      "name": "python3",
      "display_name": "Python 3"
    },
    "language_info": {
      "name": "python"
    }
  },
  "cells": [
    {
      "cell_type": "code",
      "source": [
        "# python module to create GUI\t\t\n",
        "from tkinter import *\n",
        "\n",
        "\t\t\n",
        "root = Tk()\n",
        "root.title(\"CRYPTOGRAPHY\")\n",
        "root.geometry(\"800x600\")\n",
        "\n",
        "\n",
        "def encryption():\n",
        "    plain_text = e1.get()\n",
        "    cipher_text = \"\"\n",
        "    key = 25\n",
        "    for i in range(len(plain_text)):\n",
        "        letter = plain_text[i]\n",
        "        if letter==' ':\n",
        "            cipher_text+=' '\n",
        "        elif(letter.isupper()):\n",
        "            cipher_text+=chr(26-(ord(letter)-64)+65)\n",
        "        else:\n",
        "            cipher_text+=chr(26-(ord(letter)-96)+97)\n",
        "    e2.insert(0, cipher_text)\n",
        "    \n",
        "\n",
        "def decryption():\n",
        "    cipher_text1 = e3.get()\n",
        "    plain_text1 = \"\"\n",
        "    key = 3\n",
        "    for i in range(len(cipher_text1)):\n",
        "        letter = cipher_text1[i]\n",
        "        if letter==' ':\n",
        "            plain_text1+=' '\n",
        "        elif(letter.isupper()):\n",
        "            plain_text1+=chr(26-(ord(letter)-64)+65)\n",
        "        else:\n",
        "            plain_text1+=chr(26-(ord(letter)-96)+97)\n",
        "    e4.insert(0, plain_text1)\n",
        "\n",
        "\n",
        "# creating labels and positioning them on the grid\n",
        "label1 = Label(root, text ='plain text')\t\t\t\n",
        "label1.grid(row = 10, column = 1, padx=5, pady=5)\n",
        "label2 = Label(root, text ='encrypted text')\n",
        "label2.grid(row = 11, column = 1, padx=5, pady=5)\n",
        "l3 = Label(root, text =\"cipher text\")\n",
        "l3.grid(row = 10, column = 30, padx=5, pady=5)\n",
        "l4 = Label(root, text =\"decrypted text\")\n",
        "l4.grid(row = 11, column = 30, padx=5, pady=5)\n",
        "\n",
        "# creating entries and positioning them on the grid\n",
        "e1 = Entry(root, width = 30)\n",
        "e1.grid(row = 10, column = 2, padx=5, pady=5)\n",
        "e2 = Entry(root, width = 30)\n",
        "e2.grid(row = 11, column = 2, padx=5, pady=5)\n",
        "e3 = Entry(root, width = 30)\n",
        "e3.grid(row = 10, column = 21, padx=5, pady=5)\n",
        "e4 = Entry(root, width = 30)\n",
        "e4.grid(row = 11, column = 21, padx=5, pady=5)\n",
        "\n",
        "# creating encryption button to produce the output\n",
        "ent = Button(root, text = \"encrypt\", bg =\"red\", fg =\"white\", command = encryption)\n",
        "ent.grid(row = 13, column = 2)\n",
        "\n",
        "# creating decryption button to produce the output\n",
        "b2 = Button(root, text = \"decrypt\", bg =\"green\", fg =\"white\", command = decryption)\n",
        "b2.grid(row = 13, column = 21)\n",
        "\n",
        "\n",
        "root.mainloop()\n"
      ],
      "metadata": {
        "id": "Jev-g2kQpOhh"
      },
      "execution_count": null,
      "outputs": []
    }
  ]
}